{
 "cells": [
  {
   "cell_type": "code",
   "execution_count": 1,
   "metadata": {
    "colab": {
     "base_uri": "https://localhost:8080/"
    },
    "id": "PowbNKHiFNDZ",
    "outputId": "f816e87a-e035-4d42-ff89-e06fcde37ea4"
   },
   "outputs": [
    {
     "name": "stdout",
     "output_type": "stream",
     "text": [
      "Get:1 http://security.ubuntu.com/ubuntu bionic-security InRelease [88.7 kB]\n",
      "Get:2 https://cloud.r-project.org/bin/linux/ubuntu bionic-cran40/ InRelease [3,626 B]\n",
      "Ign:3 https://developer.download.nvidia.com/compute/cuda/repos/ubuntu1804/x86_64  InRelease\n",
      "Ign:4 https://developer.download.nvidia.com/compute/machine-learning/repos/ubuntu1804/x86_64  InRelease\n",
      "Get:5 http://ppa.launchpad.net/c2d4u.team/c2d4u4.0+/ubuntu bionic InRelease [15.9 kB]\n",
      "Get:6 https://developer.download.nvidia.com/compute/cuda/repos/ubuntu1804/x86_64  Release [696 B]\n",
      "Hit:7 https://developer.download.nvidia.com/compute/machine-learning/repos/ubuntu1804/x86_64  Release\n",
      "Hit:8 http://archive.ubuntu.com/ubuntu bionic InRelease\n",
      "Get:9 https://developer.download.nvidia.com/compute/cuda/repos/ubuntu1804/x86_64  Release.gpg [836 B]\n",
      "Get:10 http://archive.ubuntu.com/ubuntu bionic-updates InRelease [88.7 kB]\n",
      "Hit:11 http://ppa.launchpad.net/cran/libgit2/ubuntu bionic InRelease\n",
      "Hit:12 http://ppa.launchpad.net/deadsnakes/ppa/ubuntu bionic InRelease\n",
      "Get:13 http://archive.ubuntu.com/ubuntu bionic-backports InRelease [74.6 kB]\n",
      "Get:14 http://security.ubuntu.com/ubuntu bionic-security/universe amd64 Packages [1,444 kB]\n",
      "Get:15 http://ppa.launchpad.net/graphics-drivers/ppa/ubuntu bionic InRelease [21.3 kB]\n",
      "Get:16 http://security.ubuntu.com/ubuntu bionic-security/main amd64 Packages [2,461 kB]\n",
      "Get:17 http://security.ubuntu.com/ubuntu bionic-security/restricted amd64 Packages [691 kB]\n",
      "Get:19 https://developer.download.nvidia.com/compute/cuda/repos/ubuntu1804/x86_64  Packages [829 kB]\n",
      "Get:20 http://ppa.launchpad.net/c2d4u.team/c2d4u4.0+/ubuntu bionic/main Sources [1,813 kB]\n",
      "Get:21 http://archive.ubuntu.com/ubuntu bionic-updates/universe amd64 Packages [2,225 kB]\n",
      "Get:22 http://ppa.launchpad.net/c2d4u.team/c2d4u4.0+/ubuntu bionic/main amd64 Packages [930 kB]\n",
      "Get:23 http://archive.ubuntu.com/ubuntu bionic-updates/main amd64 Packages [2,898 kB]\n",
      "Get:24 http://archive.ubuntu.com/ubuntu bionic-updates/restricted amd64 Packages [725 kB]\n",
      "Get:25 http://ppa.launchpad.net/graphics-drivers/ppa/ubuntu bionic/main amd64 Packages [44.7 kB]\n",
      "Fetched 14.4 MB in 5s (3,082 kB/s)\n",
      "Reading package lists... Done\n"
     ]
    }
   ],
   "source": [
    "# **************************** DELIVERABLE-2 ****************************\n",
    "\n",
    "import os\n",
    "# Find the latest version of spark 3.0 from http://www.apache.org/dist/spark/ and enter as the spark version\n",
    "# For example:\n",
    "# spark_version = 'spark-3.0.3'\n",
    "spark_version = 'spark-3.0.3'\n",
    "os.environ['SPARK_VERSION']=spark_version\n",
    "\n",
    "# Install Spark and Java\n",
    "!apt-get update\n",
    "!apt-get install openjdk-11-jdk-headless -qq > /dev/null\n",
    "!wget -q http://www.apache.org/dist/spark/$SPARK_VERSION/$SPARK_VERSION-bin-hadoop2.7.tgz\n",
    "!tar xf $SPARK_VERSION-bin-hadoop2.7.tgz\n",
    "!pip install -q findspark\n",
    "\n",
    "# Set Environment Variables\n",
    "import os\n",
    "os.environ[\"JAVA_HOME\"] = \"/usr/lib/jvm/java-11-openjdk-amd64\"\n",
    "os.environ[\"SPARK_HOME\"] = f\"/content/{spark_version}-bin-hadoop2.7\"\n",
    "\n",
    "# Start a SparkSession\n",
    "import findspark\n",
    "findspark.init()"
   ]
  },
  {
   "cell_type": "code",
   "execution_count": 2,
   "metadata": {
    "id": "zhE5ySdBFqbv"
   },
   "outputs": [],
   "source": [
    "from pyspark.sql import SparkSession\n",
    "spark = SparkSession.builder.appName(\"M16-Amazon-ChallengeD2\").config(\"spark.driver.extraClassPath\",\"/content/postgresql-42.2.16.jar\").getOrCreate()"
   ]
  },
  {
   "cell_type": "code",
   "execution_count": 3,
   "metadata": {
    "colab": {
     "base_uri": "https://localhost:8080/"
    },
    "id": "ODt5tQuQF6Mb",
    "outputId": "a240f0dc-a033-4be2-eafa-cbc37dd71dec"
   },
   "outputs": [
    {
     "name": "stdout",
     "output_type": "stream",
     "text": [
      "+-----------+-----------+--------------+----------+--------------+--------------------+-------------------+-----------+-------------+-----------+----+-----------------+--------------------+--------------------+-----------+\n",
      "|marketplace|customer_id|     review_id|product_id|product_parent|       product_title|   product_category|star_rating|helpful_votes|total_votes|vine|verified_purchase|     review_headline|         review_body|review_date|\n",
      "+-----------+-----------+--------------+----------+--------------+--------------------+-------------------+-----------+-------------+-----------+----+-----------------+--------------------+--------------------+-----------+\n",
      "|         US|   21269168| RSH1OZ87OYK92|B013PURRZW|     603406193|Madden NFL 16 - X...|Digital_Video_Games|          2|            2|          3|   N|                N|A slight improvem...|I keep buying mad...| 2015-08-31|\n",
      "|         US|     133437|R1WFOQ3N9BO65I|B00F4CEHNK|     341969535| Xbox Live Gift Card|Digital_Video_Games|          5|            0|          0|   N|                Y|          Five Stars|             Awesome| 2015-08-31|\n",
      "|         US|   45765011| R3YOOS71KM5M9|B00DNHLFQA|     951665344|Command & Conquer...|Digital_Video_Games|          5|            0|          0|   N|                Y|Hail to the great...|If you are preppi...| 2015-08-31|\n",
      "|         US|     113118|R3R14UATT3OUFU|B004RMK5QG|     395682204|Playstation Plus ...|Digital_Video_Games|          5|            0|          0|   N|                Y|          Five Stars|             Perfect| 2015-08-31|\n",
      "|         US|   22151364| RV2W9SGDNQA2C|B00G9BNLQE|     640460561|Saints Row IV - E...|Digital_Video_Games|          5|            0|          0|   N|                Y|          Five Stars|            Awesome!| 2015-08-31|\n",
      "|         US|   22151364|R3CFKLIZ0I2KOB|B00IMIL498|     621922192|Double Dragon: Ne...|Digital_Video_Games|          5|            0|          0|   N|                Y|          Five Stars|            Awesome!| 2015-08-31|\n",
      "|         US|   38426028|R1LRYU1V0T3O38|B00S00IJH8|     215163395|              Sims 4|Digital_Video_Games|          4|            0|          0|   N|                Y|i like the new sk...|i like the new sk...| 2015-08-31|\n",
      "|         US|    6057518| R44QKV6FE5CJ2|B004RMK4BC|     384246568|Playstation Netwo...|Digital_Video_Games|          5|            0|          0|   N|                Y|          Five Stars|               Super| 2015-08-31|\n",
      "|         US|   20715661|R2TX1KLPXXXNYS|B00K59HKIQ|     384246568|Playstation Netwo...|Digital_Video_Games|          5|            0|          0|   N|                Y|         Easy & Fast|Excellent, fast a...| 2015-08-31|\n",
      "|         US|   26540306|R1JEEW4C6R89BA|B00K59HKIQ|     384246568|Playstation Netwo...|Digital_Video_Games|          5|            0|          0|   N|                Y|          Five Stars|                  Ok| 2015-08-31|\n",
      "|         US|    8926809|R3B3UHK1FO0ERS|B004774IPU|     151985175|Sid Meier's Civil...|Digital_Video_Games|          1|            0|          0|   N|                N|I am still playin...|As has been writt...| 2015-08-31|\n",
      "|         US|   31525534|R2GVSDHW513SS1|B002LIT9EC|     695277014|Build-a-lot 4: Po...|Digital_Video_Games|          5|            0|          0|   N|                Y|Probably the best...|Probably the best...| 2015-08-31|\n",
      "|         US|   22151364|R1R1NT516PYT73|B008ALUBYQ|     112160022|       Borderlands 2|Digital_Video_Games|          5|            0|          0|   N|                Y|          Five Stars|            Awesome!| 2015-08-31|\n",
      "|         US|   22977584|R3K624QDQKENN9|B010KYDNDG|     835376637|Minecraft for PC/...|Digital_Video_Games|          4|            0|          0|   N|                Y|                 FUN|COOL BUT IT LAGES...| 2015-08-31|\n",
      "|         US|   45765011| R1FOXH7PCJX3V|B008ALUBYQ|     112160022|       Borderlands 2|Digital_Video_Games|          1|            0|          2|   N|                Y|            One Star|Lames purchase I ...| 2015-08-31|\n",
      "|         US|    2239522| RA1246M1OMDWC|B004RMK4P8|     384246568|Playstation Netwo...|Digital_Video_Games|          5|            0|          0|   N|                Y|          Five Stars|               Great| 2015-08-31|\n",
      "|         US|   48805811|R2I9SXWB0PAEKQ|B004RMK5QG|     395682204|Playstation Plus ...|Digital_Video_Games|          5|            0|          0|   N|                Y|          Five Stars|          Awesome!!!| 2015-08-31|\n",
      "|         US|   18646481|R3UGL544NA0G9C|B00BI16Z22|     552981447|Brink of Consciou...|Digital_Video_Games|          4|            0|          0|   N|                Y|       worth playing|pretty good but n...| 2015-08-31|\n",
      "|         US|   10310935|R1CBA4Y92GVAVM|B004VSTQ2A|     232803743|Xbox Live Subscri...|Digital_Video_Games|          5|            0|          0|   N|                Y|          Five Stars|What can I say......| 2015-08-31|\n",
      "|         US|    5587610|R24NEKNR01VEHU|B00GAC1D2G|     384246568|Playstation Netwo...|Digital_Video_Games|          5|            0|          0|   N|                Y|        Just amazing|Very fast to rece...| 2015-08-31|\n",
      "+-----------+-----------+--------------+----------+--------------+--------------------+-------------------+-----------+-------------+-----------+----+-----------------+--------------------+--------------------+-----------+\n",
      "only showing top 20 rows\n",
      "\n"
     ]
    }
   ],
   "source": [
    "# Load Amazon Data into Spark DataFrame\n",
    "from pyspark import SparkFiles\n",
    "url = \"https://s3.amazonaws.com/amazon-reviews-pds/tsv/amazon_reviews_us_Digital_Video_Games_v1_00.tsv.gz\"\n",
    "spark.sparkContext.addFile(url)\n",
    "df = spark.read.option(\"encoding\", \"UTF-8\").csv(SparkFiles.get(\"amazon_reviews_us_Digital_Video_Games_v1_00.tsv.gz\"), sep=\"\\t\", header=True, inferSchema=True)\n",
    "df.show()"
   ]
  },
  {
   "cell_type": "code",
   "execution_count": 4,
   "metadata": {
    "colab": {
     "base_uri": "https://localhost:8080/"
    },
    "id": "75cKdYlKGF0f",
    "outputId": "3a5989d7-d2b4-42e3-a2ae-9f90ce6fc0fa"
   },
   "outputs": [
    {
     "data": {
      "text/plain": [
       "145431"
      ]
     },
     "execution_count": 4,
     "metadata": {},
     "output_type": "execute_result"
    }
   ],
   "source": [
    "df.count()"
   ]
  },
  {
   "cell_type": "code",
   "execution_count": 5,
   "metadata": {
    "colab": {
     "base_uri": "https://localhost:8080/"
    },
    "id": "bLr7mq4QGLcU",
    "outputId": "5d9fbd2b-1d13-4b10-951a-2992d1d4944a"
   },
   "outputs": [
    {
     "name": "stdout",
     "output_type": "stream",
     "text": [
      "+-----------+-----------+--------------+----------+--------------+--------------------+-------------------+-----------+-------------+-----------+----+-----------------+--------------------+--------------------+-----------+\n",
      "|marketplace|customer_id|     review_id|product_id|product_parent|       product_title|   product_category|star_rating|helpful_votes|total_votes|vine|verified_purchase|     review_headline|         review_body|review_date|\n",
      "+-----------+-----------+--------------+----------+--------------+--------------------+-------------------+-----------+-------------+-----------+----+-----------------+--------------------+--------------------+-----------+\n",
      "|         US|   12569493| RV4UH0OWW97K4|B0149HT55K|     947161997|Megaman Legacy Co...|Digital_Video_Games|          5|           19|         22|   N|                N|Mega Man Legacy C...|What is Mega Man?...| 2015-08-29|\n",
      "|         US|   40702997| RG6GT6G9WNYT1|B013XJ2M8M|     628348017|Rocket League [On...|Digital_Video_Games|          5|           22|         22|   N|                N|A multiplayer mas...|At its core, Rock...| 2015-08-22|\n",
      "|         US|   10139402| RFBXE3Q3GYQYO|B013XJ2M8M|     628348017|Rocket League [On...|Digital_Video_Games|          5|           68|         70|   N|                Y|Comes with Steam ...|When you buy this...| 2015-08-22|\n",
      "|         US|    2498805|R17V95WYC9ZXDD|B00WY2G178|     738740182|  Grand Theft Auto V|Digital_Video_Games|          1|            0|         20|   N|                Y|                 >:(|They name the gam...| 2015-08-17|\n",
      "|         US|   46312741|R235HEIYY15NZX|B013TVXHYC|     774364132|ARK: Survival Evo...|Digital_Video_Games|          1|            0|         26|   N|                Y|this sucks can't ...|this sucks can't ...| 2015-08-15|\n",
      "|         US|   11816220|R3BZ4DHX2YHC4V|B013TVXHYC|     774364132|ARK: Survival Evo...|Digital_Video_Games|          1|            1|         32|   N|                Y|            One Star|Terrible graphics...| 2015-08-15|\n",
      "|         US|    2158932| RZSC8Q4630BV1|B013TVXHYC|     774364132|ARK: Survival Evo...|Digital_Video_Games|          1|            1|         26|   N|                N|             1 Star!|The game code doe...| 2015-08-15|\n",
      "|         US|   22035782|R34S64NPUZOS90|B013TVXHYC|     774364132|ARK: Survival Evo...|Digital_Video_Games|          5|           23|         24|   N|                N|        Amazing game|[[VIDEOID:e5a8be6...| 2015-08-15|\n",
      "|         US|   21767922|R35O3GV3HZUX8B|B013TVXHYC|     774364132|ARK: Survival Evo...|Digital_Video_Games|          5|           58|         63|   N|                N|more than my mone...|This is definitel...| 2015-08-13|\n",
      "|         US|   47875352|R2AZAMZCEUOKQT|B00F4CF39C|     341969535| Xbox Live Gift Card|Digital_Video_Games|          1|           29|         40|   N|                Y|Complete waste of...|When I tried to r...| 2015-08-10|\n",
      "|         US|   51358050|R103RUVEH5YWQ4|B00F4CFHFC|     341969535| Xbox Live Gift Card|Digital_Video_Games|          1|           69|         90|   N|                Y|  Code already used?|Getting error tel...| 2015-08-08|\n",
      "|         US|   25803630|R2QNPQLXMCXOH3|B010KYDNDG|     835376637|Minecraft for PC/...|Digital_Video_Games|          5|           35|         37|   N|                Y|Very simple to do...|I was very nervou...| 2015-08-06|\n",
      "|         US|   19113385|R3IXRKTYAKSP3I|B010KYDNDG|     835376637|Minecraft for PC/...|Digital_Video_Games|          1|            2|         36|   N|                N|            One Star|Minecraft for psv...| 2015-08-01|\n",
      "|         US|   53021369|R2XR1JSAVZ4G8E|B010O9XWO2|     694952333|King's Quest Coll...|Digital_Video_Games|          1|            6|         23|   N|                Y|I've wasted an ho...|Um, can you give ...| 2015-07-29|\n",
      "|         US|   21468517| R93USRL9TCC0A|B010O9XWO2|     694952333|King's Quest Coll...|Digital_Video_Games|          1|            7|         22|   N|                Y|Interface is terr...|Interface is terr...| 2015-07-28|\n",
      "|         US|    1688095|R3F8QIC548OKSB|B010KYDNDG|     835376637|Minecraft for PC/...|Digital_Video_Games|          1|            4|         41|   N|                N|Mods is what make...|Mojang needs to s...| 2015-07-28|\n",
      "|         US|    7662466| RJHVI076CU1PK|B010KYDNDG|     835376637|Minecraft for PC/...|Digital_Video_Games|          1|            5|         74|   N|                N|            One Star|  graphics suck 0/10| 2015-07-27|\n",
      "|         US|   28371230|R2841JSGJYEO5X|B010R8DUFQ|     473214709|Rocket League - P...|Digital_Video_Games|          1|            1|         28|   N|                N|Uninteresting and...|I tried playing t...| 2015-07-26|\n",
      "|         US|   14355910|R2YK81PG05KMN8|B010KYDNDG|     835376637|Minecraft for PC/...|Digital_Video_Games|          1|            4|         33|   N|                Y|I have bought thi...|I have bought thi...| 2015-07-26|\n",
      "|         US|   14164552|R1RHI2XSCV52AI|B010KYDNDG|     835376637|Minecraft for PC/...|Digital_Video_Games|          1|            4|         61|   N|                Y|Stupidest thing e...|Absolutely useles...| 2015-07-24|\n",
      "+-----------+-----------+--------------+----------+--------------+--------------------+-------------------+-----------+-------------+-----------+----+-----------------+--------------------+--------------------+-----------+\n",
      "only showing top 20 rows\n",
      "\n"
     ]
    }
   ],
   "source": [
    "# Load in a sql function to use columns\n",
    "from pyspark.sql.functions import col\n",
    "\n",
    "# retrieve all the rows where the total_votes count is equal to or greater than 20\n",
    "total_votes_greater20_df = df.filter(col(\"total_votes\") >= 20)\n",
    "total_votes_greater20_df.show()"
   ]
  },
  {
   "cell_type": "code",
   "execution_count": 6,
   "metadata": {
    "colab": {
     "base_uri": "https://localhost:8080/"
    },
    "id": "On6p6VcUGtD9",
    "outputId": "4aaa28cb-8318-4dc1-c2e3-30da7077532b"
   },
   "outputs": [
    {
     "data": {
      "text/plain": [
       "3342"
      ]
     },
     "execution_count": 6,
     "metadata": {},
     "output_type": "execute_result"
    }
   ],
   "source": [
    "total_votes_greater20_df.count()"
   ]
  },
  {
   "cell_type": "code",
   "execution_count": 7,
   "metadata": {
    "colab": {
     "base_uri": "https://localhost:8080/"
    },
    "id": "ow1ihybhG1t7",
    "outputId": "467fee57-9315-4759-c547-36dcc89c7e10"
   },
   "outputs": [
    {
     "name": "stdout",
     "output_type": "stream",
     "text": [
      "+-----------+-----------+--------------+----------+--------------+--------------------+-------------------+-----------+-------------+-----------+----+-----------------+--------------------+--------------------+-----------+\n",
      "|marketplace|customer_id|     review_id|product_id|product_parent|       product_title|   product_category|star_rating|helpful_votes|total_votes|vine|verified_purchase|     review_headline|         review_body|review_date|\n",
      "+-----------+-----------+--------------+----------+--------------+--------------------+-------------------+-----------+-------------+-----------+----+-----------------+--------------------+--------------------+-----------+\n",
      "|         US|   12569493| RV4UH0OWW97K4|B0149HT55K|     947161997|Megaman Legacy Co...|Digital_Video_Games|          5|           19|         22|   N|                N|Mega Man Legacy C...|What is Mega Man?...| 2015-08-29|\n",
      "|         US|   40702997| RG6GT6G9WNYT1|B013XJ2M8M|     628348017|Rocket League [On...|Digital_Video_Games|          5|           22|         22|   N|                N|A multiplayer mas...|At its core, Rock...| 2015-08-22|\n",
      "|         US|   10139402| RFBXE3Q3GYQYO|B013XJ2M8M|     628348017|Rocket League [On...|Digital_Video_Games|          5|           68|         70|   N|                Y|Comes with Steam ...|When you buy this...| 2015-08-22|\n",
      "|         US|   22035782|R34S64NPUZOS90|B013TVXHYC|     774364132|ARK: Survival Evo...|Digital_Video_Games|          5|           23|         24|   N|                N|        Amazing game|[[VIDEOID:e5a8be6...| 2015-08-15|\n",
      "|         US|   21767922|R35O3GV3HZUX8B|B013TVXHYC|     774364132|ARK: Survival Evo...|Digital_Video_Games|          5|           58|         63|   N|                N|more than my mone...|This is definitel...| 2015-08-13|\n",
      "|         US|   47875352|R2AZAMZCEUOKQT|B00F4CF39C|     341969535| Xbox Live Gift Card|Digital_Video_Games|          1|           29|         40|   N|                Y|Complete waste of...|When I tried to r...| 2015-08-10|\n",
      "|         US|   51358050|R103RUVEH5YWQ4|B00F4CFHFC|     341969535| Xbox Live Gift Card|Digital_Video_Games|          1|           69|         90|   N|                Y|  Code already used?|Getting error tel...| 2015-08-08|\n",
      "|         US|   25803630|R2QNPQLXMCXOH3|B010KYDNDG|     835376637|Minecraft for PC/...|Digital_Video_Games|          5|           35|         37|   N|                Y|Very simple to do...|I was very nervou...| 2015-08-06|\n",
      "|         US|   52685108| R1JENRRBQ1YMY|B010KYDNDG|     835376637|Minecraft for PC/...|Digital_Video_Games|          5|           35|         36|   N|                N|Can Never Get Tir...|I have played thi...| 2015-07-22|\n",
      "|         US|   45470246|R2NS0HPQ2DD5XU|B010GVEYYK|     987484751|  EA SPORTS PGA TOUR|Digital_Video_Games|          1|           35|         45|   N|                N|  Absolutely Amazing|This game is so a...| 2015-07-20|\n",
      "|         US|   45726489| RIRX9H2QJFD1P|B010KYDNDG|     835376637|Minecraft for PC/...|Digital_Video_Games|          5|           49|         53|   N|                Y|   Minecraft for Mac|Great buy! I rece...| 2015-07-15|\n",
      "|         US|   42822633|R39R2LEKGIEUFS|B010KYDNDG|     835376637|Minecraft for PC/...|Digital_Video_Games|          5|           69|         77|   N|                Y|Fun game for kids...|Was a little skep...| 2015-07-12|\n",
      "|         US|   16925078|R2NCX85FTSTWHC|B010R8DUFQ|     473214709|Rocket League - P...|Digital_Video_Games|          5|           65|         68|   N|                N|Unbelievably addi...|Unbelievably addi...| 2015-07-10|\n",
      "|         US|    1176971|R1IN7ZA9ZCZEVM|B00XUYIOX8|     760479841|        Project CARS|Digital_Video_Games|          5|           17|         25|   N|                Y|r/PS4 Has arrived...| Hi reddit thanks op| 2015-07-07|\n",
      "|         US|   11389919|R253TQ098JL914|B00YQ2TXA6|      67665333|The Elder Scrolls...|Digital_Video_Games|          2|           22|         23|   N|                Y|Good gameplay, ho...|This may be the w...| 2015-06-29|\n",
      "|         US|   20084014|R3OPTDO4EDS6LN|B00WOXKBMS|     811744232|Kerbal Space Program|Digital_Video_Games|          5|           30|         30|   N|                Y|BUY THIS GAME!! ....|***AMAZON VERSION...| 2015-06-25|\n",
      "|         US|   45351550|R1FGHHDQ4P21C0|B00JV3B5RE|     430590615|Batman: Arkham Kn...|Digital_Video_Games|          1|           30|         33|   N|                N|BUY AT YOUR OWN RISK|I've been looking...| 2015-06-23|\n",
      "|         US|   39163813|R3FQ1CSDIOWWRY|B00JV3B5RE|     430590615|Batman: Arkham Kn...|Digital_Video_Games|          1|           71|         80|   N|                N|        Caveat Empor|Copied from my St...| 2015-06-23|\n",
      "|         US|   16910537|R3NJE21NUCII5L|B002VBWIP6|     232803743|Xbox Live Subscri...|Digital_Video_Games|          5|          135|        144|   N|                Y|Typically saves m...|I purchased a 12 ...| 2015-06-23|\n",
      "|         US|   37805211| RRXJ8H18EFNFZ|B00TUEOSMS|      47086315|FINAL FANTASY XIV...|Digital_Video_Games|          4|           26|         32|   N|                Y|1. if you bought ...|1.if you bought f...| 2015-06-19|\n",
      "+-----------+-----------+--------------+----------+--------------+--------------------+-------------------+-----------+-------------+-----------+----+-----------------+--------------------+--------------------+-----------+\n",
      "only showing top 20 rows\n",
      "\n"
     ]
    }
   ],
   "source": [
    "# retrieve all the rows where the number of helpful_votes divided by total_votes is equal to or greater than 50%.\n",
    "helpful_votes_greater50_df = total_votes_greater20_df.filter(col(\"helpful_votes\")/col(\"total_votes\") >= 0.5)\n",
    "helpful_votes_greater50_df.show()"
   ]
  },
  {
   "cell_type": "code",
   "execution_count": 8,
   "metadata": {
    "colab": {
     "base_uri": "https://localhost:8080/"
    },
    "id": "yHDWnsjnHReZ",
    "outputId": "3dbdc4ee-cc67-46f7-8f49-e3b0d3786137"
   },
   "outputs": [
    {
     "data": {
      "text/plain": [
       "1685"
      ]
     },
     "execution_count": 8,
     "metadata": {},
     "output_type": "execute_result"
    }
   ],
   "source": [
    "helpful_votes_greater50_df.count()"
   ]
  },
  {
   "cell_type": "code",
   "execution_count": 9,
   "metadata": {
    "colab": {
     "base_uri": "https://localhost:8080/"
    },
    "id": "4Y0TRq31HbV8",
    "outputId": "7160dd59-8dd4-4058-9a1d-69109134c342"
   },
   "outputs": [
    {
     "name": "stdout",
     "output_type": "stream",
     "text": [
      "+-----------+-----------+---------+----------+--------------+-------------+----------------+-----------+-------------+-----------+----+-----------------+---------------+-----------+-----------+\n",
      "|marketplace|customer_id|review_id|product_id|product_parent|product_title|product_category|star_rating|helpful_votes|total_votes|vine|verified_purchase|review_headline|review_body|review_date|\n",
      "+-----------+-----------+---------+----------+--------------+-------------+----------------+-----------+-------------+-----------+----+-----------------+---------------+-----------+-----------+\n",
      "+-----------+-----------+---------+----------+--------------+-------------+----------------+-----------+-------------+-----------+----+-----------------+---------------+-----------+-----------+\n",
      "\n"
     ]
    }
   ],
   "source": [
    "# retrieves all the rows where a review was written as part of the Vine program (paid), vine == 'Y'.\n",
    "paid_vine_df = helpful_votes_greater50_df.filter(col(\"vine\")==\"Y\")\n",
    "paid_vine_df.show()"
   ]
  },
  {
   "cell_type": "code",
   "execution_count": 11,
   "metadata": {
    "colab": {
     "base_uri": "https://localhost:8080/"
    },
    "id": "Hg8QEctKH0Vq",
    "outputId": "77afe592-411f-42f9-b489-f73d8aae6100"
   },
   "outputs": [
    {
     "name": "stdout",
     "output_type": "stream",
     "text": [
      "+-----------+-----------+--------------+----------+--------------+--------------------+-------------------+-----------+-------------+-----------+----+-----------------+--------------------+--------------------+-----------+\n",
      "|marketplace|customer_id|     review_id|product_id|product_parent|       product_title|   product_category|star_rating|helpful_votes|total_votes|vine|verified_purchase|     review_headline|         review_body|review_date|\n",
      "+-----------+-----------+--------------+----------+--------------+--------------------+-------------------+-----------+-------------+-----------+----+-----------------+--------------------+--------------------+-----------+\n",
      "|         US|   12569493| RV4UH0OWW97K4|B0149HT55K|     947161997|Megaman Legacy Co...|Digital_Video_Games|          5|           19|         22|   N|                N|Mega Man Legacy C...|What is Mega Man?...| 2015-08-29|\n",
      "|         US|   40702997| RG6GT6G9WNYT1|B013XJ2M8M|     628348017|Rocket League [On...|Digital_Video_Games|          5|           22|         22|   N|                N|A multiplayer mas...|At its core, Rock...| 2015-08-22|\n",
      "|         US|   10139402| RFBXE3Q3GYQYO|B013XJ2M8M|     628348017|Rocket League [On...|Digital_Video_Games|          5|           68|         70|   N|                Y|Comes with Steam ...|When you buy this...| 2015-08-22|\n",
      "|         US|   22035782|R34S64NPUZOS90|B013TVXHYC|     774364132|ARK: Survival Evo...|Digital_Video_Games|          5|           23|         24|   N|                N|        Amazing game|[[VIDEOID:e5a8be6...| 2015-08-15|\n",
      "|         US|   21767922|R35O3GV3HZUX8B|B013TVXHYC|     774364132|ARK: Survival Evo...|Digital_Video_Games|          5|           58|         63|   N|                N|more than my mone...|This is definitel...| 2015-08-13|\n",
      "|         US|   47875352|R2AZAMZCEUOKQT|B00F4CF39C|     341969535| Xbox Live Gift Card|Digital_Video_Games|          1|           29|         40|   N|                Y|Complete waste of...|When I tried to r...| 2015-08-10|\n",
      "|         US|   51358050|R103RUVEH5YWQ4|B00F4CFHFC|     341969535| Xbox Live Gift Card|Digital_Video_Games|          1|           69|         90|   N|                Y|  Code already used?|Getting error tel...| 2015-08-08|\n",
      "|         US|   25803630|R2QNPQLXMCXOH3|B010KYDNDG|     835376637|Minecraft for PC/...|Digital_Video_Games|          5|           35|         37|   N|                Y|Very simple to do...|I was very nervou...| 2015-08-06|\n",
      "|         US|   52685108| R1JENRRBQ1YMY|B010KYDNDG|     835376637|Minecraft for PC/...|Digital_Video_Games|          5|           35|         36|   N|                N|Can Never Get Tir...|I have played thi...| 2015-07-22|\n",
      "|         US|   45470246|R2NS0HPQ2DD5XU|B010GVEYYK|     987484751|  EA SPORTS PGA TOUR|Digital_Video_Games|          1|           35|         45|   N|                N|  Absolutely Amazing|This game is so a...| 2015-07-20|\n",
      "|         US|   45726489| RIRX9H2QJFD1P|B010KYDNDG|     835376637|Minecraft for PC/...|Digital_Video_Games|          5|           49|         53|   N|                Y|   Minecraft for Mac|Great buy! I rece...| 2015-07-15|\n",
      "|         US|   42822633|R39R2LEKGIEUFS|B010KYDNDG|     835376637|Minecraft for PC/...|Digital_Video_Games|          5|           69|         77|   N|                Y|Fun game for kids...|Was a little skep...| 2015-07-12|\n",
      "|         US|   16925078|R2NCX85FTSTWHC|B010R8DUFQ|     473214709|Rocket League - P...|Digital_Video_Games|          5|           65|         68|   N|                N|Unbelievably addi...|Unbelievably addi...| 2015-07-10|\n",
      "|         US|    1176971|R1IN7ZA9ZCZEVM|B00XUYIOX8|     760479841|        Project CARS|Digital_Video_Games|          5|           17|         25|   N|                Y|r/PS4 Has arrived...| Hi reddit thanks op| 2015-07-07|\n",
      "|         US|   11389919|R253TQ098JL914|B00YQ2TXA6|      67665333|The Elder Scrolls...|Digital_Video_Games|          2|           22|         23|   N|                Y|Good gameplay, ho...|This may be the w...| 2015-06-29|\n",
      "|         US|   20084014|R3OPTDO4EDS6LN|B00WOXKBMS|     811744232|Kerbal Space Program|Digital_Video_Games|          5|           30|         30|   N|                Y|BUY THIS GAME!! ....|***AMAZON VERSION...| 2015-06-25|\n",
      "|         US|   45351550|R1FGHHDQ4P21C0|B00JV3B5RE|     430590615|Batman: Arkham Kn...|Digital_Video_Games|          1|           30|         33|   N|                N|BUY AT YOUR OWN RISK|I've been looking...| 2015-06-23|\n",
      "|         US|   39163813|R3FQ1CSDIOWWRY|B00JV3B5RE|     430590615|Batman: Arkham Kn...|Digital_Video_Games|          1|           71|         80|   N|                N|        Caveat Empor|Copied from my St...| 2015-06-23|\n",
      "|         US|   16910537|R3NJE21NUCII5L|B002VBWIP6|     232803743|Xbox Live Subscri...|Digital_Video_Games|          5|          135|        144|   N|                Y|Typically saves m...|I purchased a 12 ...| 2015-06-23|\n",
      "|         US|   37805211| RRXJ8H18EFNFZ|B00TUEOSMS|      47086315|FINAL FANTASY XIV...|Digital_Video_Games|          4|           26|         32|   N|                Y|1. if you bought ...|1.if you bought f...| 2015-06-19|\n",
      "+-----------+-----------+--------------+----------+--------------+--------------------+-------------------+-----------+-------------+-----------+----+-----------------+--------------------+--------------------+-----------+\n",
      "only showing top 20 rows\n",
      "\n"
     ]
    }
   ],
   "source": [
    "# retrieve all the rows where the review was not part of the Vine program (unpaid), vine == 'N'.\n",
    "unpaid_vine_df = helpful_votes_greater50_df.filter(col(\"vine\")==\"N\")\n",
    "unpaid_vine_df.show()"
   ]
  },
  {
   "cell_type": "code",
   "execution_count": 13,
   "metadata": {
    "colab": {
     "base_uri": "https://localhost:8080/"
    },
    "id": "zpu9Yyb_H8MU",
    "outputId": "8e8db013-eb33-4241-dcd6-41a80b1c8d6b"
   },
   "outputs": [
    {
     "data": {
      "text/plain": [
       "0"
      ]
     },
     "execution_count": 13,
     "metadata": {},
     "output_type": "execute_result"
    }
   ],
   "source": [
    "# Total no of review for paid vine\n",
    "paid_vine_df.count()"
   ]
  },
  {
   "cell_type": "code",
   "execution_count": 17,
   "metadata": {
    "colab": {
     "base_uri": "https://localhost:8080/"
    },
    "id": "xsv0estfI9Sd",
    "outputId": "92bc9a04-9ad1-4763-cde0-f941d2a6c854"
   },
   "outputs": [
    {
     "data": {
      "text/plain": [
       "0"
      ]
     },
     "execution_count": 17,
     "metadata": {},
     "output_type": "execute_result"
    }
   ],
   "source": [
    "# Find the number of 5-star reviews for paid vine\n",
    "paid_5star_rating_df = paid_vine_df.filter(col(\"star_rating\") == 5)\n",
    "paid_5star_rating_df.count()"
   ]
  },
  {
   "cell_type": "code",
   "execution_count": 18,
   "metadata": {
    "id": "x0ROLFI6Ib6n"
   },
   "outputs": [],
   "source": [
    "# Find percentage of 5-star reviews for paid vine\n",
    "# percent_paid = (paid_5star_rating_df.count()/paid_vine_df.count())*100\n",
    "# print(\"Percentage of 5-star reviews for paid Vine program was: %f\" % percent_paid + \"%\")\n",
    "\n",
    "#### Unfortantly, my dataset did not have Y's in the vine column.  \n",
    "#### I pulled the csv from pgAdmin to verify it.  The csv has been uploaded to GitHub.\n",
    "#### This code will result in a divsion by zero error.  Basically, there are 0% paid Vine 5-star reviews (or any other rating level.)"
   ]
  },
  {
   "cell_type": "code",
   "execution_count": 19,
   "metadata": {
    "colab": {
     "base_uri": "https://localhost:8080/"
    },
    "id": "QS7CZa72J8f5",
    "outputId": "9bf5734a-2b55-405f-fadb-b05f548da2c5"
   },
   "outputs": [
    {
     "data": {
      "text/plain": [
       "1685"
      ]
     },
     "execution_count": 19,
     "metadata": {},
     "output_type": "execute_result"
    }
   ],
   "source": [
    "# Total no of review for unpaid vine\n",
    "unpaid_vine_df.count()"
   ]
  },
  {
   "cell_type": "code",
   "execution_count": 20,
   "metadata": {
    "colab": {
     "base_uri": "https://localhost:8080/"
    },
    "id": "18NeHo__KAmE",
    "outputId": "b68ed22c-a36f-409c-eaef-5fc528dbbe12"
   },
   "outputs": [
    {
     "data": {
      "text/plain": [
       "631"
      ]
     },
     "execution_count": 20,
     "metadata": {},
     "output_type": "execute_result"
    }
   ],
   "source": [
    "# Find the number of 5-star reviews for unpaid vine\n",
    "unpaid_5star_rating_df = unpaid_vine_df.filter(col(\"star_rating\") == 5)\n",
    "unpaid_5star_rating_df.count()"
   ]
  },
  {
   "cell_type": "code",
   "execution_count": 21,
   "metadata": {
    "colab": {
     "base_uri": "https://localhost:8080/"
    },
    "id": "Ijh584OJKIma",
    "outputId": "774c6bd7-3b45-4a00-9389-ef6ad491beb9"
   },
   "outputs": [
    {
     "name": "stdout",
     "output_type": "stream",
     "text": [
      "Percentage of 5-star reviews for unpaid Vine program was: 37.448071%\n"
     ]
    }
   ],
   "source": [
    "# Find percentage of 5-star reviews for unpaid vine\n",
    "percent_unpaid = (unpaid_5star_rating_df.count()/unpaid_vine_df.count())*100\n",
    "print(\"Percentage of 5-star reviews for unpaid Vine program was: %f\" % percent_unpaid + \"%\")"
   ]
  }
 ],
 "metadata": {
  "colab": {
   "collapsed_sections": [],
   "name": "Vine_Review_Analysis.ipynb",
   "provenance": []
  },
  "kernelspec": {
   "display_name": "Python 3",
   "language": "python",
   "name": "python3"
  },
  "language_info": {
   "codemirror_mode": {
    "name": "ipython",
    "version": 3
   },
   "file_extension": ".py",
   "mimetype": "text/x-python",
   "name": "python",
   "nbconvert_exporter": "python",
   "pygments_lexer": "ipython3",
   "version": "3.7.10"
  }
 },
 "nbformat": 4,
 "nbformat_minor": 4
}
